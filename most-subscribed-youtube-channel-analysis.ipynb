{
 "cells": [
  {
   "cell_type": "code",
   "execution_count": 1,
   "id": "2a29fb73",
   "metadata": {
    "execution": {
     "iopub.execute_input": "2024-05-20T17:55:11.827821Z",
     "iopub.status.busy": "2024-05-20T17:55:11.827253Z",
     "iopub.status.idle": "2024-05-20T17:55:14.312697Z",
     "shell.execute_reply": "2024-05-20T17:55:14.311591Z"
    },
    "papermill": {
     "duration": 2.496074,
     "end_time": "2024-05-20T17:55:14.315701",
     "exception": false,
     "start_time": "2024-05-20T17:55:11.819627",
     "status": "completed"
    },
    "tags": []
   },
   "outputs": [],
   "source": [
    "import pandas as pd\n",
    "import numpy as py\n",
    "import seaborn as sns\n",
    "import matplotlib.pyplot as plt"
   ]
  },
  {
   "cell_type": "code",
   "execution_count": 2,
   "id": "5c97d87a",
   "metadata": {
    "execution": {
     "iopub.execute_input": "2024-05-20T17:55:14.327469Z",
     "iopub.status.busy": "2024-05-20T17:55:14.326944Z",
     "iopub.status.idle": "2024-05-20T17:55:14.351475Z",
     "shell.execute_reply": "2024-05-20T17:55:14.350211Z"
    },
    "papermill": {
     "duration": 0.033696,
     "end_time": "2024-05-20T17:55:14.354415",
     "exception": false,
     "start_time": "2024-05-20T17:55:14.320719",
     "status": "completed"
    },
    "tags": []
   },
   "outputs": [],
   "source": [
    "df = pd.read_csv('/kaggle/input/most-subscribed-youtube-channel/Most Subscribed YouTube Channels_exported.csv')"
   ]
  },
  {
   "cell_type": "code",
   "execution_count": 3,
   "id": "332286f4",
   "metadata": {
    "execution": {
     "iopub.execute_input": "2024-05-20T17:55:14.365427Z",
     "iopub.status.busy": "2024-05-20T17:55:14.365040Z",
     "iopub.status.idle": "2024-05-20T17:55:14.392559Z",
     "shell.execute_reply": "2024-05-20T17:55:14.391411Z"
    },
    "papermill": {
     "duration": 0.035909,
     "end_time": "2024-05-20T17:55:14.395063",
     "exception": false,
     "start_time": "2024-05-20T17:55:14.359154",
     "status": "completed"
    },
    "tags": []
   },
   "outputs": [
    {
     "data": {
      "text/html": [
       "<div>\n",
       "<style scoped>\n",
       "    .dataframe tbody tr th:only-of-type {\n",
       "        vertical-align: middle;\n",
       "    }\n",
       "\n",
       "    .dataframe tbody tr th {\n",
       "        vertical-align: top;\n",
       "    }\n",
       "\n",
       "    .dataframe thead th {\n",
       "        text-align: right;\n",
       "    }\n",
       "</style>\n",
       "<table border=\"1\" class=\"dataframe\">\n",
       "  <thead>\n",
       "    <tr style=\"text-align: right;\">\n",
       "      <th></th>\n",
       "      <th>Name</th>\n",
       "      <th>Brand channel</th>\n",
       "      <th>Subscribers (millions)</th>\n",
       "      <th>Primary language</th>\n",
       "      <th>Category</th>\n",
       "      <th>Country</th>\n",
       "    </tr>\n",
       "  </thead>\n",
       "  <tbody>\n",
       "    <tr>\n",
       "      <th>0</th>\n",
       "      <td>T-Series</td>\n",
       "      <td>Yes</td>\n",
       "      <td>249.0</td>\n",
       "      <td>Hindi[7][8]</td>\n",
       "      <td>Music</td>\n",
       "      <td>India</td>\n",
       "    </tr>\n",
       "    <tr>\n",
       "      <th>1</th>\n",
       "      <td>MrBeast</td>\n",
       "      <td>No</td>\n",
       "      <td>184.0</td>\n",
       "      <td>English</td>\n",
       "      <td>Entertainment</td>\n",
       "      <td>United States</td>\n",
       "    </tr>\n",
       "    <tr>\n",
       "      <th>2</th>\n",
       "      <td>Cocomelon</td>\n",
       "      <td>Yes</td>\n",
       "      <td>165.0</td>\n",
       "      <td>English</td>\n",
       "      <td>Education</td>\n",
       "      <td>United States</td>\n",
       "    </tr>\n",
       "    <tr>\n",
       "      <th>3</th>\n",
       "      <td>Sony Entertainment Television India</td>\n",
       "      <td>Yes</td>\n",
       "      <td>162.0</td>\n",
       "      <td>Hindi[9]</td>\n",
       "      <td>Entertainment</td>\n",
       "      <td>India</td>\n",
       "    </tr>\n",
       "    <tr>\n",
       "      <th>4</th>\n",
       "      <td>Kids Diana Show</td>\n",
       "      <td>Yes</td>\n",
       "      <td>113.0</td>\n",
       "      <td>English[10][11][12]</td>\n",
       "      <td>Entertainment</td>\n",
       "      <td>Ukraine- United States</td>\n",
       "    </tr>\n",
       "  </tbody>\n",
       "</table>\n",
       "</div>"
      ],
      "text/plain": [
       "                                  Name Brand channel  Subscribers (millions)  \\\n",
       "0                             T-Series           Yes                   249.0   \n",
       "1                              MrBeast            No                   184.0   \n",
       "2                            Cocomelon           Yes                   165.0   \n",
       "3  Sony Entertainment Television India           Yes                   162.0   \n",
       "4                      Kids Diana Show           Yes                   113.0   \n",
       "\n",
       "      Primary language       Category                 Country  \n",
       "0          Hindi[7][8]          Music                   India  \n",
       "1              English  Entertainment           United States  \n",
       "2              English      Education           United States  \n",
       "3             Hindi[9]  Entertainment                   India  \n",
       "4  English[10][11][12]  Entertainment  Ukraine- United States  "
      ]
     },
     "execution_count": 3,
     "metadata": {},
     "output_type": "execute_result"
    }
   ],
   "source": [
    "df.head()"
   ]
  },
  {
   "cell_type": "code",
   "execution_count": 4,
   "id": "6c5e9d00",
   "metadata": {
    "execution": {
     "iopub.execute_input": "2024-05-20T17:55:14.406720Z",
     "iopub.status.busy": "2024-05-20T17:55:14.406279Z",
     "iopub.status.idle": "2024-05-20T17:55:14.431136Z",
     "shell.execute_reply": "2024-05-20T17:55:14.430178Z"
    },
    "papermill": {
     "duration": 0.034103,
     "end_time": "2024-05-20T17:55:14.434149",
     "exception": false,
     "start_time": "2024-05-20T17:55:14.400046",
     "status": "completed"
    },
    "tags": []
   },
   "outputs": [
    {
     "name": "stdout",
     "output_type": "stream",
     "text": [
      "<class 'pandas.core.frame.DataFrame'>\n",
      "RangeIndex: 50 entries, 0 to 49\n",
      "Data columns (total 6 columns):\n",
      " #   Column                  Non-Null Count  Dtype  \n",
      "---  ------                  --------------  -----  \n",
      " 0   Name                    50 non-null     object \n",
      " 1   Brand channel           50 non-null     object \n",
      " 2   Subscribers (millions)  50 non-null     float64\n",
      " 3   Primary language        50 non-null     object \n",
      " 4   Category                50 non-null     object \n",
      " 5   Country                 50 non-null     object \n",
      "dtypes: float64(1), object(5)\n",
      "memory usage: 2.5+ KB\n"
     ]
    }
   ],
   "source": [
    "df.info()"
   ]
  },
  {
   "cell_type": "code",
   "execution_count": 5,
   "id": "546d5f73",
   "metadata": {
    "execution": {
     "iopub.execute_input": "2024-05-20T17:55:14.446980Z",
     "iopub.status.busy": "2024-05-20T17:55:14.446014Z",
     "iopub.status.idle": "2024-05-20T17:55:14.454091Z",
     "shell.execute_reply": "2024-05-20T17:55:14.453275Z"
    },
    "papermill": {
     "duration": 0.01663,
     "end_time": "2024-05-20T17:55:14.456294",
     "exception": false,
     "start_time": "2024-05-20T17:55:14.439664",
     "status": "completed"
    },
    "tags": []
   },
   "outputs": [
    {
     "data": {
      "text/plain": [
       "Name                      0\n",
       "Brand channel             0\n",
       "Subscribers (millions)    0\n",
       "Primary language          0\n",
       "Category                  0\n",
       "Country                   0\n",
       "dtype: int64"
      ]
     },
     "execution_count": 5,
     "metadata": {},
     "output_type": "execute_result"
    }
   ],
   "source": [
    "df.isnull().sum()"
   ]
  },
  {
   "cell_type": "code",
   "execution_count": 6,
   "id": "4a18ec5d",
   "metadata": {
    "execution": {
     "iopub.execute_input": "2024-05-20T17:55:14.469857Z",
     "iopub.status.busy": "2024-05-20T17:55:14.469063Z",
     "iopub.status.idle": "2024-05-20T17:55:15.059406Z",
     "shell.execute_reply": "2024-05-20T17:55:15.057742Z"
    },
    "papermill": {
     "duration": 0.599604,
     "end_time": "2024-05-20T17:55:15.061835",
     "exception": true,
     "start_time": "2024-05-20T17:55:14.462231",
     "status": "failed"
    },
    "tags": []
   },
   "outputs": [
    {
     "ename": "NameError",
     "evalue": "name 'top10' is not defined",
     "output_type": "error",
     "traceback": [
      "\u001b[0;31m---------------------------------------------------------------------------\u001b[0m",
      "\u001b[0;31mNameError\u001b[0m                                 Traceback (most recent call last)",
      "Cell \u001b[0;32mIn[6], line 2\u001b[0m\n\u001b[1;32m      1\u001b[0m \u001b[38;5;66;03m# Calculate average subscribers among top 10 channels\u001b[39;00m\n\u001b[0;32m----> 2\u001b[0m average_subscribers \u001b[38;5;241m=\u001b[39m \u001b[43mtop10\u001b[49m[\u001b[38;5;124m'\u001b[39m\u001b[38;5;124mSubscribers (millions)\u001b[39m\u001b[38;5;124m'\u001b[39m]\u001b[38;5;241m.\u001b[39mmean()\n\u001b[1;32m      4\u001b[0m \u001b[38;5;66;03m# Top 10 Youtube channels by Subscribers\u001b[39;00m\n\u001b[1;32m      5\u001b[0m plt\u001b[38;5;241m.\u001b[39mfigure(figsize\u001b[38;5;241m=\u001b[39m(\u001b[38;5;241m10\u001b[39m, \u001b[38;5;241m6\u001b[39m))\n",
      "\u001b[0;31mNameError\u001b[0m: name 'top10' is not defined"
     ]
    }
   ],
   "source": [
    "# Calculate average subscribers among top 10 channels\n",
    "average_subscribers = top10['Subscribers (millions)'].mean()\n",
    "\n",
    "# Top 10 Youtube channels by Subscribers\n",
    "plt.figure(figsize=(10, 6))\n",
    "sns.barplot(x='Subscribers (millions)', y='Name', data=top10)\n",
    "plt.xlabel('Subscribers (millions)')\n",
    "plt.ylabel('Name')\n",
    "plt.title('Top 10 Youtube channels by Subscribers')\n",
    "plt.grid(axis='x', linestyle='--', alpha=0.7, color='black')\n",
    "\n",
    "# Adding average line\n",
    "plt.axvline(x=average_subscribers, color='red', linestyle='--', label=f'Average Subscribers: {average_subscribers:.2f} million')\n",
    "\n",
    "# Adding values on top of the bars\n",
    "for index, value in enumerate(top10['Subscribers (millions)']):\n",
    "    plt.text(value, index, str(value), ha='left', va='center')\n",
    "\n",
    "plt.legend()\n",
    "plt.show()"
   ]
  },
  {
   "cell_type": "code",
   "execution_count": null,
   "id": "df057baf",
   "metadata": {
    "execution": {
     "iopub.execute_input": "2024-05-20T17:51:06.624234Z",
     "iopub.status.busy": "2024-05-20T17:51:06.623852Z",
     "iopub.status.idle": "2024-05-20T17:51:06.890274Z",
     "shell.execute_reply": "2024-05-20T17:51:06.889044Z",
     "shell.execute_reply.started": "2024-05-20T17:51:06.624204Z"
    },
    "papermill": {
     "duration": null,
     "end_time": null,
     "exception": null,
     "start_time": null,
     "status": "pending"
    },
    "tags": []
   },
   "outputs": [],
   "source": [
    "# Count of brand channels vs non-brand channels\n",
    "brand_count = df['Brand channel'].value_counts()\n",
    "plt.figure(figsize=(6, 4))\n",
    "sns.barplot(x=brand_count.index, y=brand_count.values)\n",
    "plt.title('Brand Channels vs Non-Brand Channels')\n",
    "plt.xlabel('Channel Type')\n",
    "plt.ylabel('Count')\n",
    "plt.grid(axis='y', linestyle='--', alpha=0.7, color='black')\n",
    "\n",
    "# Adding values on top of the bars\n",
    "for index, value in enumerate(brand_count.values):\n",
    "    plt.text(index, value, str(value), ha='center', va='bottom')\n",
    "\n",
    "plt.show()"
   ]
  },
  {
   "cell_type": "code",
   "execution_count": null,
   "id": "6d647bb5",
   "metadata": {
    "execution": {
     "iopub.execute_input": "2024-05-20T17:50:36.130650Z",
     "iopub.status.busy": "2024-05-20T17:50:36.130201Z",
     "iopub.status.idle": "2024-05-20T17:50:36.456924Z",
     "shell.execute_reply": "2024-05-20T17:50:36.455420Z",
     "shell.execute_reply.started": "2024-05-20T17:50:36.130615Z"
    },
    "papermill": {
     "duration": null,
     "end_time": null,
     "exception": null,
     "start_time": null,
     "status": "pending"
    },
    "tags": []
   },
   "outputs": [],
   "source": [
    "# Top categories\n",
    "category_count = df['Category'].value_counts()\n",
    "plt.figure(figsize=(8, 6))\n",
    "category_count.plot(kind='bar')\n",
    "plt.title('Top Categories on YouTube')\n",
    "plt.xlabel('Category')\n",
    "plt.ylabel('Count')\n",
    "plt.xticks(rotation=45)\n",
    "plt.grid(axis='y', linestyle='--', alpha=0.7, color='black')\n",
    "\n",
    "# Adding values on top of the bars\n",
    "for index, value in enumerate(category_count.values):\n",
    "    plt.text(index, value, str(value), ha='center', va='bottom')\n",
    "\n",
    "plt.show()"
   ]
  },
  {
   "cell_type": "code",
   "execution_count": null,
   "id": "1800872f",
   "metadata": {
    "execution": {
     "iopub.execute_input": "2024-05-20T17:54:10.386198Z",
     "iopub.status.busy": "2024-05-20T17:54:10.385446Z",
     "iopub.status.idle": "2024-05-20T17:54:10.803685Z",
     "shell.execute_reply": "2024-05-20T17:54:10.802403Z",
     "shell.execute_reply.started": "2024-05-20T17:54:10.386143Z"
    },
    "papermill": {
     "duration": null,
     "end_time": null,
     "exception": null,
     "start_time": null,
     "status": "pending"
    },
    "tags": []
   },
   "outputs": [],
   "source": [
    "# Distribution of subscribers\n",
    "plt.figure(figsize=(8, 6))\n",
    "sns.histplot(data=df, x='Subscribers (millions)', bins=20, kde=True)\n",
    "plt.title('Distribution of Subscribers (in millions)')\n",
    "plt.xlabel('Subscribers (in millions)')\n",
    "plt.ylabel('Count')\n",
    "plt.grid(axis='y', linestyle='--', alpha=0.7, color='black')\n",
    "plt.show()"
   ]
  },
  {
   "cell_type": "code",
   "execution_count": null,
   "id": "24c2bee6",
   "metadata": {
    "execution": {
     "iopub.execute_input": "2024-05-20T17:54:47.333165Z",
     "iopub.status.busy": "2024-05-20T17:54:47.332704Z",
     "iopub.status.idle": "2024-05-20T17:54:47.851134Z",
     "shell.execute_reply": "2024-05-20T17:54:47.849312Z",
     "shell.execute_reply.started": "2024-05-20T17:54:47.333129Z"
    },
    "papermill": {
     "duration": null,
     "end_time": null,
     "exception": null,
     "start_time": null,
     "status": "pending"
    },
    "tags": []
   },
   "outputs": [],
   "source": [
    "# Top countries\n",
    "country_count = df['Country'].value_counts()\n",
    "plt.figure(figsize=(10, 6))\n",
    "country_count.plot(kind='bar')\n",
    "plt.title('Top Countries on YouTube')\n",
    "plt.xlabel('Country')\n",
    "plt.ylabel('Count')\n",
    "plt.xticks(rotation=45)\n",
    "plt.grid(axis='y', linestyle='--', alpha=0.7, color='black')\n",
    "\n",
    "# Adding values on top of the bars\n",
    "for index, value in enumerate(country_count.values):\n",
    "    plt.text(index, value, str(value), ha='center', va='bottom')\n",
    "\n",
    "plt.show()"
   ]
  },
  {
   "cell_type": "code",
   "execution_count": null,
   "id": "9703e49f",
   "metadata": {
    "execution": {
     "iopub.execute_input": "2024-05-20T17:46:31.889148Z",
     "iopub.status.busy": "2024-05-20T17:46:31.888759Z",
     "iopub.status.idle": "2024-05-20T17:46:32.220037Z",
     "shell.execute_reply": "2024-05-20T17:46:32.217732Z",
     "shell.execute_reply.started": "2024-05-20T17:46:31.889118Z"
    },
    "papermill": {
     "duration": null,
     "end_time": null,
     "exception": null,
     "start_time": null,
     "status": "pending"
    },
    "tags": []
   },
   "outputs": [],
   "source": [
    "# Language distribution\n",
    "language_count = df['Primary language'].value_counts()\n",
    "plt.figure(figsize=(8, 6))\n",
    "language_count.plot(kind='pie', autopct='%1.1f%%')\n",
    "plt.title('Primary Language Distribution')\n",
    "plt.axis('equal')\n",
    "plt.show()"
   ]
  }
 ],
 "metadata": {
  "kaggle": {
   "accelerator": "none",
   "dataSources": [
    {
     "datasetId": 4772989,
     "sourceId": 8085698,
     "sourceType": "datasetVersion"
    }
   ],
   "dockerImageVersionId": 30698,
   "isGpuEnabled": false,
   "isInternetEnabled": true,
   "language": "python",
   "sourceType": "notebook"
  },
  "kernelspec": {
   "display_name": "Python 3",
   "language": "python",
   "name": "python3"
  },
  "language_info": {
   "codemirror_mode": {
    "name": "ipython",
    "version": 3
   },
   "file_extension": ".py",
   "mimetype": "text/x-python",
   "name": "python",
   "nbconvert_exporter": "python",
   "pygments_lexer": "ipython3",
   "version": "3.10.13"
  },
  "papermill": {
   "default_parameters": {},
   "duration": 7.105679,
   "end_time": "2024-05-20T17:55:15.690342",
   "environment_variables": {},
   "exception": true,
   "input_path": "__notebook__.ipynb",
   "output_path": "__notebook__.ipynb",
   "parameters": {},
   "start_time": "2024-05-20T17:55:08.584663",
   "version": "2.5.0"
  }
 },
 "nbformat": 4,
 "nbformat_minor": 5
}
